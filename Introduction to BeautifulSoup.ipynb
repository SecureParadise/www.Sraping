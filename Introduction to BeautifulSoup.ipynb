{
 "cells": [
  {
   "cell_type": "code",
   "execution_count": 24,
   "id": "93533071-50a5-40b5-8e95-9dd73423511c",
   "metadata": {},
   "outputs": [],
   "source": [
    "from urllib.request import urlopen\n",
    "from bs4 import BeautifulSoup\n",
    "from urllib.error import HTTPError,URLError"
   ]
  },
  {
   "cell_type": "code",
   "execution_count": 2,
   "id": "c92081d1-2fa1-4b74-9613-44aca5ab0699",
   "metadata": {},
   "outputs": [],
   "source": [
    "html = urlopen('https://www.pythonscraping.com/pages/page1.html')\n"
   ]
  },
  {
   "cell_type": "code",
   "execution_count": 3,
   "id": "804e60c3-8aaf-49a9-bb74-d66305b5c297",
   "metadata": {},
   "outputs": [],
   "source": [
    "bs = BeautifulSoup(html,'html.parser')"
   ]
  },
  {
   "cell_type": "code",
   "execution_count": 4,
   "id": "be9f8852-5157-431f-9d54-4916556e87fc",
   "metadata": {},
   "outputs": [
    {
     "name": "stdout",
     "output_type": "stream",
     "text": [
      "<html>\n",
      "<head>\n",
      "<title>A Useful Page</title>\n",
      "</head>\n",
      "<body>\n",
      "<h1>An Interesting Title</h1>\n",
      "<div>\n",
      "Lorem ipsum dolor sit amet, consectetur adipisicing elit, sed do eiusmod tempor incididunt ut labore et dolore magna aliqua. Ut enim ad minim veniam, quis nostrud exercitation ullamco laboris nisi ut aliquip ex ea commodo consequat. Duis aute irure dolor in reprehenderit in voluptate velit esse cillum dolore eu fugiat nulla pariatur. Excepteur sint occaecat cupidatat non proident, sunt in culpa qui officia deserunt mollit anim id est laborum.\n",
      "</div>\n",
      "</body>\n",
      "</html>\n",
      "\n"
     ]
    }
   ],
   "source": [
    "print(bs)"
   ]
  },
  {
   "cell_type": "code",
   "execution_count": 5,
   "id": "7a5b9c90-ce7d-4dd9-a827-9e6678ba0b0e",
   "metadata": {},
   "outputs": [
    {
     "name": "stdout",
     "output_type": "stream",
     "text": [
      "<html>\n",
      "<head>\n",
      "<title>A Useful Page</title>\n",
      "</head>\n",
      "<body>\n",
      "<h1>An Interesting Title</h1>\n",
      "<div>\n",
      "Lorem ipsum dolor sit amet, consectetur adipisicing elit, sed do eiusmod tempor incididunt ut labore et dolore magna aliqua. Ut enim ad minim veniam, quis nostrud exercitation ullamco laboris nisi ut aliquip ex ea commodo consequat. Duis aute irure dolor in reprehenderit in voluptate velit esse cillum dolore eu fugiat nulla pariatur. Excepteur sint occaecat cupidatat non proident, sunt in culpa qui officia deserunt mollit anim id est laborum.\n",
      "</div>\n",
      "</body>\n",
      "</html>\n"
     ]
    }
   ],
   "source": [
    "print(bs.html)"
   ]
  },
  {
   "cell_type": "code",
   "execution_count": 6,
   "id": "3d843d5c-691f-41fc-9277-60494e955cd9",
   "metadata": {},
   "outputs": [
    {
     "name": "stdout",
     "output_type": "stream",
     "text": [
      "<head>\n",
      "<title>A Useful Page</title>\n",
      "</head>\n"
     ]
    }
   ],
   "source": [
    "print(bs.head)"
   ]
  },
  {
   "cell_type": "code",
   "execution_count": 7,
   "id": "49d5d0a1-f3ea-4020-9f44-65b0a0256a65",
   "metadata": {},
   "outputs": [
    {
     "name": "stdout",
     "output_type": "stream",
     "text": [
      "<title>A Useful Page</title>\n"
     ]
    }
   ],
   "source": [
    "print(bs.title)"
   ]
  },
  {
   "cell_type": "code",
   "execution_count": 8,
   "id": "dc54da97-bc21-4fed-bb87-269f41bddf3e",
   "metadata": {},
   "outputs": [
    {
     "name": "stdout",
     "output_type": "stream",
     "text": [
      "<body>\n",
      "<h1>An Interesting Title</h1>\n",
      "<div>\n",
      "Lorem ipsum dolor sit amet, consectetur adipisicing elit, sed do eiusmod tempor incididunt ut labore et dolore magna aliqua. Ut enim ad minim veniam, quis nostrud exercitation ullamco laboris nisi ut aliquip ex ea commodo consequat. Duis aute irure dolor in reprehenderit in voluptate velit esse cillum dolore eu fugiat nulla pariatur. Excepteur sint occaecat cupidatat non proident, sunt in culpa qui officia deserunt mollit anim id est laborum.\n",
      "</div>\n",
      "</body>\n"
     ]
    }
   ],
   "source": [
    "print(bs.body)"
   ]
  },
  {
   "cell_type": "code",
   "execution_count": 9,
   "id": "b179ef4f-39da-4c34-addd-a3785d155b61",
   "metadata": {},
   "outputs": [
    {
     "ename": "NameError",
     "evalue": "name 'div' is not defined",
     "output_type": "error",
     "traceback": [
      "\u001b[1;31m---------------------------------------------------------------------------\u001b[0m",
      "\u001b[1;31mNameError\u001b[0m                                 Traceback (most recent call last)",
      "Cell \u001b[1;32mIn[9], line 1\u001b[0m\n\u001b[1;32m----> 1\u001b[0m \u001b[38;5;28mprint\u001b[39m(bs\u001b[38;5;241m.\u001b[39mfind_all(\u001b[43mdiv\u001b[49m))\n",
      "\u001b[1;31mNameError\u001b[0m: name 'div' is not defined"
     ]
    }
   ],
   "source": [
    "print(bs.find_all(div))"
   ]
  },
  {
   "cell_type": "code",
   "execution_count": 10,
   "id": "84c6e28d-b3a4-48f6-99e4-65caa8a4b2a5",
   "metadata": {},
   "outputs": [
    {
     "name": "stdout",
     "output_type": "stream",
     "text": [
      "[<div>\n",
      "Lorem ipsum dolor sit amet, consectetur adipisicing elit, sed do eiusmod tempor incididunt ut labore et dolore magna aliqua. Ut enim ad minim veniam, quis nostrud exercitation ullamco laboris nisi ut aliquip ex ea commodo consequat. Duis aute irure dolor in reprehenderit in voluptate velit esse cillum dolore eu fugiat nulla pariatur. Excepteur sint occaecat cupidatat non proident, sunt in culpa qui officia deserunt mollit anim id est laborum.\n",
      "</div>]\n"
     ]
    }
   ],
   "source": [
    "print(bs.find_all('div'))"
   ]
  },
  {
   "cell_type": "code",
   "execution_count": 11,
   "id": "9e3b851b-0c0e-412b-ad3a-6cb84f2b5ae8",
   "metadata": {},
   "outputs": [],
   "source": [
    "deva = bs.find_all('div')"
   ]
  },
  {
   "cell_type": "code",
   "execution_count": 12,
   "id": "fff82955-4b47-4161-aafe-f6c1bdc34399",
   "metadata": {},
   "outputs": [
    {
     "name": "stdout",
     "output_type": "stream",
     "text": [
      "[<div>\n",
      "Lorem ipsum dolor sit amet, consectetur adipisicing elit, sed do eiusmod tempor incididunt ut labore et dolore magna aliqua. Ut enim ad minim veniam, quis nostrud exercitation ullamco laboris nisi ut aliquip ex ea commodo consequat. Duis aute irure dolor in reprehenderit in voluptate velit esse cillum dolore eu fugiat nulla pariatur. Excepteur sint occaecat cupidatat non proident, sunt in culpa qui officia deserunt mollit anim id est laborum.\n",
      "</div>]\n"
     ]
    }
   ],
   "source": [
    "print(deva)"
   ]
  },
  {
   "cell_type": "code",
   "execution_count": 13,
   "id": "7aa27db0-7321-43b1-9bf0-d95840829aae",
   "metadata": {},
   "outputs": [
    {
     "data": {
      "text/plain": [
       "bs4.element.ResultSet"
      ]
     },
     "execution_count": 13,
     "metadata": {},
     "output_type": "execute_result"
    }
   ],
   "source": [
    "type(deva)"
   ]
  },
  {
   "cell_type": "code",
   "execution_count": 17,
   "id": "14ea876e-0cd9-439e-8c00-21bc865d2b11",
   "metadata": {},
   "outputs": [
    {
     "name": "stdout",
     "output_type": "stream",
     "text": [
      "None\n"
     ]
    }
   ],
   "source": [
    "print(bs.nonExistingTAg)"
   ]
  },
  {
   "cell_type": "code",
   "execution_count": 22,
   "id": "e1d7e37c",
   "metadata": {},
   "outputs": [
    {
     "name": "stdout",
     "output_type": "stream",
     "text": [
      "Tag was not found from none\n"
     ]
    }
   ],
   "source": [
    "try:\n",
    "    badContent = bs.nonExistingTAg.anotherTag\n",
    "except AttributeError as e:\n",
    "    print(\"Tag was not found\")\n",
    "else:\n",
    "    if badContent == None:\n",
    "        print(\"Tag was not found from none\")\n",
    "    else:\n",
    "        print(badContent)\n",
    "        "
   ]
  },
  {
   "cell_type": "code",
   "execution_count": 30,
   "id": "cfa531ed",
   "metadata": {},
   "outputs": [],
   "source": [
    "# Function To work\n",
    "def getTittle(url):\n",
    "    try:\n",
    "        html=urlopen(url)\n",
    "    except HTTPError as e:\n",
    "        print('Http Error Occured')\n",
    "    except URLError as e:\n",
    "        print('Error Due to URL')\n",
    "    try:\n",
    "        bs = BeautifulSoup(html,'html.parser')\n",
    "        title = bs.title\n",
    "    except AttributeError as e:\n",
    "        return None\n",
    "    return title\n"
   ]
  },
  {
   "cell_type": "code",
   "execution_count": 31,
   "id": "f474edf5",
   "metadata": {},
   "outputs": [
    {
     "name": "stdout",
     "output_type": "stream",
     "text": [
      "<title>A Useful Page</title>\n"
     ]
    }
   ],
   "source": [
    "title = getTittle('https://www.pythonscraping.com/pages/page1.html')\n",
    "if title == None:\n",
    "    print('Kuch nahi milega')\n",
    "else:\n",
    "    print(title)"
   ]
  },
  {
   "cell_type": "code",
   "execution_count": null,
   "id": "1b1e1008",
   "metadata": {},
   "outputs": [],
   "source": []
  }
 ],
 "metadata": {
  "kernelspec": {
   "display_name": "capI",
   "language": "python",
   "name": "capi"
  },
  "language_info": {
   "codemirror_mode": {
    "name": "ipython",
    "version": 3
   },
   "file_extension": ".py",
   "mimetype": "text/x-python",
   "name": "python",
   "nbconvert_exporter": "python",
   "pygments_lexer": "ipython3",
   "version": "3.12.4"
  }
 },
 "nbformat": 4,
 "nbformat_minor": 5
}
